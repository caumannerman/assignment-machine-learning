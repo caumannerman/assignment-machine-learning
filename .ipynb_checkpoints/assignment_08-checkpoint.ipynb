{
 "cells": [
  {
   "cell_type": "markdown",
   "metadata": {},
   "source": [
    "# Logistic Regression "
   ]
  },
  {
   "cell_type": "markdown",
   "metadata": {},
   "source": [
    "## import library"
   ]
  },
  {
   "cell_type": "code",
   "execution_count": 266,
   "metadata": {},
   "outputs": [],
   "source": [
    "import numpy as np\n",
    "import matplotlib.pyplot as plt\n",
    "import matplotlib.colors as colors"
   ]
  },
  {
   "cell_type": "markdown",
   "metadata": {},
   "source": [
    "## load training data"
   ]
  },
  {
   "cell_type": "code",
   "execution_count": 267,
   "metadata": {},
   "outputs": [
    {
     "name": "stdout",
     "output_type": "stream",
     "text": [
      "(600, 3) (600,) (600,) (600,)\n"
     ]
    }
   ],
   "source": [
    "fname_data = 'assignment_08_data.csv'\n",
    "\n",
    "data = np.genfromtxt(fname_data, delimiter=',')\n",
    "num_data = data.shape[0]\n",
    "\n",
    "point_x = np.zeros(num_data)\n",
    "point_y = np.zeros(num_data)\n",
    "label   = np.zeros(num_data)\n",
    "\n",
    "for i in range(num_data):\n",
    "\n",
    "    point_x[i]  = data[i,0]\n",
    "    point_y[i]  = data[i,1]\n",
    "    label[i]    = data[i,2]\n",
    "\n",
    "print(data.shape ,point_x.shape, point_y.shape,label.shape)\n"
   ]
  },
  {
   "cell_type": "markdown",
   "metadata": {},
   "source": [
    "## define linear regression function with inputs $\\theta = (\\theta_0, \\theta_1, \\theta_2)$ and ${\\rm point} = (1, x, y)$"
   ]
  },
  {
   "cell_type": "code",
   "execution_count": 268,
   "metadata": {},
   "outputs": [],
   "source": [
    "# (600,0)벡터를 return\n",
    "def linear_regression(point_x,point_y,theta):\n",
    "    temp = np.ones((3,point_x.shape[0]))\n",
    "    temp[1] = point_x\n",
    "    temp[2] = point_y\n",
    "\n",
    "    value = (theta.reshape(1,3)@ temp ).reshape(point_x.shape[0],)\n",
    "    \n",
    "    return value\n"
   ]
  },
  {
   "cell_type": "markdown",
   "metadata": {},
   "source": [
    "## define sigmoid function with input $x$"
   ]
  },
  {
   "cell_type": "code",
   "execution_count": 269,
   "metadata": {},
   "outputs": [
    {
     "name": "stdout",
     "output_type": "stream",
     "text": [
      "[0.5 0.5 0.5 0.5 0.5 0.5 0.5 0.5 0.5 0.5 0.5 0.5 0.5 0.5 0.5 0.5 0.5 0.5\n",
      " 0.5 0.5 0.5 0.5 0.5 0.5 0.5 0.5 0.5 0.5 0.5 0.5 0.5 0.5 0.5 0.5 0.5 0.5\n",
      " 0.5 0.5 0.5 0.5 0.5 0.5 0.5 0.5 0.5 0.5 0.5 0.5 0.5 0.5 0.5 0.5 0.5 0.5\n",
      " 0.5 0.5 0.5 0.5 0.5 0.5 0.5 0.5 0.5 0.5 0.5 0.5 0.5 0.5 0.5 0.5 0.5 0.5\n",
      " 0.5 0.5 0.5 0.5 0.5 0.5 0.5 0.5 0.5 0.5 0.5 0.5 0.5 0.5 0.5 0.5 0.5 0.5\n",
      " 0.5 0.5 0.5 0.5 0.5 0.5 0.5 0.5 0.5 0.5 0.5 0.5 0.5 0.5 0.5 0.5 0.5 0.5\n",
      " 0.5 0.5 0.5 0.5 0.5 0.5 0.5 0.5 0.5 0.5 0.5 0.5 0.5 0.5 0.5 0.5 0.5 0.5\n",
      " 0.5 0.5 0.5 0.5 0.5 0.5 0.5 0.5 0.5 0.5 0.5 0.5 0.5 0.5 0.5 0.5 0.5 0.5\n",
      " 0.5 0.5 0.5 0.5 0.5 0.5 0.5 0.5 0.5 0.5 0.5 0.5 0.5 0.5 0.5 0.5 0.5 0.5\n",
      " 0.5 0.5 0.5 0.5 0.5 0.5 0.5 0.5 0.5 0.5 0.5 0.5 0.5 0.5 0.5 0.5 0.5 0.5\n",
      " 0.5 0.5 0.5 0.5 0.5 0.5 0.5 0.5 0.5 0.5 0.5 0.5 0.5 0.5 0.5 0.5 0.5 0.5\n",
      " 0.5 0.5 0.5 0.5 0.5 0.5 0.5 0.5 0.5 0.5 0.5 0.5 0.5 0.5 0.5 0.5 0.5 0.5\n",
      " 0.5 0.5 0.5 0.5 0.5 0.5 0.5 0.5 0.5 0.5 0.5 0.5 0.5 0.5 0.5 0.5 0.5 0.5\n",
      " 0.5 0.5 0.5 0.5 0.5 0.5 0.5 0.5 0.5 0.5 0.5 0.5 0.5 0.5 0.5 0.5 0.5 0.5\n",
      " 0.5 0.5 0.5 0.5 0.5 0.5 0.5 0.5 0.5 0.5 0.5 0.5 0.5 0.5 0.5 0.5 0.5 0.5\n",
      " 0.5 0.5 0.5 0.5 0.5 0.5 0.5 0.5 0.5 0.5 0.5 0.5 0.5 0.5 0.5 0.5 0.5 0.5\n",
      " 0.5 0.5 0.5 0.5 0.5 0.5 0.5 0.5 0.5 0.5 0.5 0.5 0.5 0.5 0.5 0.5 0.5 0.5\n",
      " 0.5 0.5 0.5 0.5 0.5 0.5 0.5 0.5 0.5 0.5 0.5 0.5 0.5 0.5 0.5 0.5 0.5 0.5\n",
      " 0.5 0.5 0.5 0.5 0.5 0.5 0.5 0.5 0.5 0.5 0.5 0.5 0.5 0.5 0.5 0.5 0.5 0.5\n",
      " 0.5 0.5 0.5 0.5 0.5 0.5 0.5 0.5 0.5 0.5 0.5 0.5 0.5 0.5 0.5 0.5 0.5 0.5\n",
      " 0.5 0.5 0.5 0.5 0.5 0.5 0.5 0.5 0.5 0.5 0.5 0.5 0.5 0.5 0.5 0.5 0.5 0.5\n",
      " 0.5 0.5 0.5 0.5 0.5 0.5 0.5 0.5 0.5 0.5 0.5 0.5 0.5 0.5 0.5 0.5 0.5 0.5\n",
      " 0.5 0.5 0.5 0.5 0.5 0.5 0.5 0.5 0.5 0.5 0.5 0.5 0.5 0.5 0.5 0.5 0.5 0.5\n",
      " 0.5 0.5 0.5 0.5 0.5 0.5 0.5 0.5 0.5 0.5 0.5 0.5 0.5 0.5 0.5 0.5 0.5 0.5\n",
      " 0.5 0.5 0.5 0.5 0.5 0.5 0.5 0.5 0.5 0.5 0.5 0.5 0.5 0.5 0.5 0.5 0.5 0.5\n",
      " 0.5 0.5 0.5 0.5 0.5 0.5 0.5 0.5 0.5 0.5 0.5 0.5 0.5 0.5 0.5 0.5 0.5 0.5\n",
      " 0.5 0.5 0.5 0.5 0.5 0.5 0.5 0.5 0.5 0.5 0.5 0.5 0.5 0.5 0.5 0.5 0.5 0.5\n",
      " 0.5 0.5 0.5 0.5 0.5 0.5 0.5 0.5 0.5 0.5 0.5 0.5 0.5 0.5 0.5 0.5 0.5 0.5\n",
      " 0.5 0.5 0.5 0.5 0.5 0.5 0.5 0.5 0.5 0.5 0.5 0.5 0.5 0.5 0.5 0.5 0.5 0.5\n",
      " 0.5 0.5 0.5 0.5 0.5 0.5 0.5 0.5 0.5 0.5 0.5 0.5 0.5 0.5 0.5 0.5 0.5 0.5\n",
      " 0.5 0.5 0.5 0.5 0.5 0.5 0.5 0.5 0.5 0.5 0.5 0.5 0.5 0.5 0.5 0.5 0.5 0.5\n",
      " 0.5 0.5 0.5 0.5 0.5 0.5 0.5 0.5 0.5 0.5 0.5 0.5 0.5 0.5 0.5 0.5 0.5 0.5\n",
      " 0.5 0.5 0.5 0.5 0.5 0.5 0.5 0.5 0.5 0.5 0.5 0.5 0.5 0.5 0.5 0.5 0.5 0.5\n",
      " 0.5 0.5 0.5 0.5 0.5 0.5]\n"
     ]
    }
   ],
   "source": [
    "def sigmoid(value):\n",
    "    z = 1 / (1 + np.exp(-value) )\n",
    "    \n",
    "    return z\n",
    "print(sigmoid(linear_regression(point_x, point_y, np.array([0,0,0]))))"
   ]
  },
  {
   "cell_type": "markdown",
   "metadata": {},
   "source": [
    "## define loss function for the logistic regression"
   ]
  },
  {
   "cell_type": "code",
   "execution_count": 271,
   "metadata": {},
   "outputs": [
    {
     "ename": "SyntaxError",
     "evalue": "invalid syntax (<ipython-input-271-05f7dc8923a1>, line 8)",
     "output_type": "error",
     "traceback": [
      "\u001b[0;36m  File \u001b[0;32m\"<ipython-input-271-05f7dc8923a1>\"\u001b[0;36m, line \u001b[0;32m8\u001b[0m\n\u001b[0;31m    return loss\u001b[0m\n\u001b[0m         ^\u001b[0m\n\u001b[0;31mSyntaxError\u001b[0m\u001b[0;31m:\u001b[0m invalid syntax\n"
     ]
    }
   ],
   "source": [
    "def compute_loss(point_x,point_y,theta,label):\n",
    "    \n",
    "    z = sigmoid(linear_regression(point_x,point_y,theta))\n",
    "    \n",
    "    n = point_x.shape[0]\n",
    "    \n",
    "    loss = np.mean( -label*np.log(0.001+z) - (1 - label)*np.log((1-z) + 0.001 )\n",
    "    return loss\n",
    "\n",
    "print(compute_loss(point_x, point_y, theta,label))"
   ]
  },
  {
   "cell_type": "markdown",
   "metadata": {},
   "source": [
    "## define gradient vector for the model parameters $\\theta = (\\theta_0, \\theta_1, \\theta_2)$"
   ]
  },
  {
   "cell_type": "code",
   "execution_count": 238,
   "metadata": {},
   "outputs": [
    {
     "name": "stdout",
     "output_type": "stream",
     "text": [
      "[-0.00806763  0.00535122 -0.00049609]\n"
     ]
    },
    {
     "name": "stderr",
     "output_type": "stream",
     "text": [
      "/opt/anaconda3/lib/python3.7/site-packages/ipykernel_launcher.py:2: RuntimeWarning: overflow encountered in exp\n",
      "  \n"
     ]
    }
   ],
   "source": [
    "def compute_gradient(point_x,point_y,theta,label,data,learning_rate):\n",
    "    \n",
    "    z = sigmoid(linear_regression(point_x,point_y,theta))\n",
    "    n = point_x.shape[0]\n",
    "    \n",
    "    gradient =  learning_rate * np.mean(data.T * (z - label).reshape(1,600)  , axis = 1)\n",
    "    \n",
    "    return gradient\n",
    "print(compute_gradient(point_x,point_y,theta,label,data,learning_rate))"
   ]
  },
  {
   "cell_type": "markdown",
   "metadata": {},
   "source": [
    "## gradient descent for the model parameters $\\theta = (\\theta_0, \\theta_1, \\theta_2)$"
   ]
  },
  {
   "cell_type": "code",
   "execution_count": 239,
   "metadata": {
    "tags": []
   },
   "outputs": [],
   "source": [
    "num_iteration   = 5000  # USE THIS VALUE for the number of gradient descent iterations \n",
    "learning_rate   = 0.001 # USE THIS VALUE for the learning rate\n",
    "theta           = np.array((0., 0., 0.))   # USE THIS VALUE for the initial condition of the model parameters\n",
    "\n",
    "theta_iteration = np.zeros((num_iteration, theta.size))\n",
    "loss_iteration = np.zeros(num_iteration)"
   ]
  },
  {
   "cell_type": "markdown",
   "metadata": {},
   "source": [
    "## iterations for the gradient descent"
   ]
  },
  {
   "cell_type": "code",
   "execution_count": 240,
   "metadata": {
    "tags": []
   },
   "outputs": [
    {
     "name": "stdout",
     "output_type": "stream",
     "text": [
      "iteration =  0 theta =  [-0.00353072  0.00360356 -0.00025   ] loss =  0.6777470317284604\n",
      "iteration =  50 theta =  [-0.07164975  0.16927392 -0.00692973] loss =  0.42426978266504844\n",
      "iteration =  100 theta =  [-0.05017257  0.32339742 -0.00866984] loss =  0.48905296597229514\n",
      "iteration =  150 theta =  [-0.00847696  0.47667495 -0.00933425] loss =  0.6172657646467221\n",
      "iteration =  200 theta =  [ 0.04004561  0.63126894 -0.00967634] loss =  0.7550942050587482\n",
      "iteration =  250 theta =  [ 0.09164567  0.78725585 -0.00988514] loss =  0.8847836603804343\n",
      "iteration =  300 theta =  [ 0.14487427  0.94435862 -0.01002637] loss =  0.9980926343407504\n",
      "iteration =  350 theta =  [ 0.19905892  1.10230702 -0.01012885] loss =  1.0925741633183612\n",
      "iteration =  400 theta =  [ 0.25384964  1.26089115 -0.01020727] loss =  1.169740708692575\n",
      "iteration =  450 theta =  [ 0.30904857  1.41995484 -0.01026976] loss =  1.2323287544194543\n",
      "iteration =  500 theta =  [ 0.36453619  1.57938178 -0.01032117] loss =  1.2833734802569445\n",
      "iteration =  550 theta =  [ 0.42023623  1.73908451 -0.01036451] loss =  1.3256984281998418\n",
      "iteration =  600 theta =  [ 0.47609767  1.89899657 -0.01040172] loss =  1.361488969679714\n",
      "iteration =  650 theta =  [ 0.53208503  2.05906716 -0.01043412] loss =  1.3922459480038925\n",
      "iteration =  700 theta =  [ 0.58817278  2.21925729 -0.01046263] loss =  1.4190049690973972\n",
      "iteration =  750 theta =  [ 0.644342    2.37953708 -0.01048792] loss =  1.4425341191927783\n",
      "iteration =  800 theta =  [ 0.70057837  2.53988365 -0.01051048] loss =  1.4634301541908947\n",
      "iteration =  850 theta =  [ 0.75687079  2.70027962 -0.01053071] loss =  1.4821600978746128\n",
      "iteration =  900 theta =  [ 0.81321052  2.86071188 -0.01054891] loss =  1.4990852612617735\n",
      "iteration =  950 theta =  [ 0.86959055  3.02117064 -0.01056531] loss =  1.514480838549236\n",
      "iteration =  1000 theta =  [ 0.92600521  3.18164874 -0.01058014] loss =  1.5285557824375908\n",
      "iteration =  1050 theta =  [ 0.98244985  3.34214103 -0.01059355] loss =  1.541472236122584\n",
      "iteration =  1100 theta =  [ 1.03892059  3.50264394 -0.0106057 ] loss =  1.5533610630202224\n",
      "iteration =  1150 theta =  [ 1.09541421  3.66315514 -0.01061671] loss =  1.5643316288112346\n",
      "iteration =  1200 theta =  [ 1.15192798  3.8236732  -0.01062669] loss =  1.574476913018843\n",
      "iteration =  1250 theta =  [ 1.20845958  3.98419742 -0.01063575] loss =  1.5838763300471863\n",
      "iteration =  1300 theta =  [ 1.26500702  4.14472764 -0.01064398] loss =  1.592598076939183\n",
      "iteration =  1350 theta =  [ 1.32156859  4.30526409 -0.01065144] loss =  1.6007015907657276\n",
      "iteration =  1400 theta =  [ 1.37814281  4.4658073  -0.01065821] loss =  1.608239840633405\n",
      "iteration =  1450 theta =  [ 1.4347284   4.62635798 -0.01066436] loss =  1.615261012316036\n",
      "iteration =  1500 theta =  [ 1.49132423  4.78691701 -0.01066995] loss =  1.6218094206451368\n",
      "iteration =  1550 theta =  [ 1.5479293   4.94748533 -0.01067501] loss =  1.6279258180780694\n",
      "iteration =  1600 theta =  [ 1.60454276  5.10806395 -0.01067961] loss =  1.6336474228560367\n",
      "iteration =  1650 theta =  [ 1.66116382  5.26865389 -0.01068379] loss =  1.6390079451683814\n",
      "iteration =  1700 theta =  [ 1.7177918   5.42925616 -0.01068757] loss =  1.6440377451094847\n",
      "iteration =  1750 theta =  [ 1.7744261   5.58987174 -0.01069101] loss =  1.6487641210444814\n",
      "iteration =  1800 theta =  [ 1.83106616  5.75050161 -0.01069413] loss =  1.6532116571087665\n",
      "iteration =  1850 theta =  [ 1.8877115   5.91114669 -0.01069695] loss =  1.6574025535228605\n",
      "iteration =  1900 theta =  [ 1.94436167  6.07180783 -0.01069952] loss =  1.6613568941465677\n",
      "iteration =  1950 theta =  [ 2.00101629  6.23248587 -0.01070185] loss =  1.6650928423503355\n",
      "iteration =  2000 theta =  [ 2.05767499  6.39318157 -0.01070396] loss =  1.6686267817221485\n",
      "iteration =  2050 theta =  [ 2.11433746  6.55389565 -0.01070587] loss =  1.6719734282799787\n",
      "iteration =  2100 theta =  [ 2.17100339  6.71462877 -0.0107076 ] loss =  1.6751459391092558\n",
      "iteration =  2150 theta =  [ 2.22767253  6.87538154 -0.01070918] loss =  1.6781560341522725\n",
      "iteration =  2200 theta =  [ 2.28434463  7.03615452 -0.0107106 ] loss =  1.6810141378745374\n",
      "iteration =  2250 theta =  [ 2.34101946  7.19694821 -0.01071189] loss =  1.683729538731675\n",
      "iteration =  2300 theta =  [ 2.39769683  7.35776309 -0.01071307] loss =  1.6863105583227447\n",
      "iteration =  2350 theta =  [ 2.45437654  7.51859957 -0.01071413] loss =  1.688764719328431\n",
      "iteration =  2400 theta =  [ 2.51105844  7.67945803 -0.01071509] loss =  1.691098901512404\n",
      "iteration =  2450 theta =  [ 2.56774235  7.8403388  -0.01071596] loss =  1.69331947742255\n",
      "iteration =  2500 theta =  [ 2.62442815  8.00124219 -0.01071675] loss =  1.695432422940104\n",
      "iteration =  2550 theta =  [ 2.68111569  8.16216844 -0.01071747] loss =  1.6974434014910882\n",
      "iteration =  2600 theta =  [ 2.73780485  8.3231178  -0.01071812] loss =  1.6993578237922677\n",
      "iteration =  2650 theta =  [ 2.79449552  8.48409046 -0.0107187 ] loss =  1.7011808870316807\n",
      "iteration =  2700 theta =  [ 2.8511876   8.64508657 -0.01071923] loss =  1.7029175982981852\n",
      "iteration =  2750 theta =  [ 2.90788098  8.80610629 -0.01071972] loss =  1.704572787044575\n",
      "iteration =  2800 theta =  [ 2.96457558  8.96714973 -0.01072015] loss =  1.7061511106982352\n",
      "iteration =  2850 theta =  [ 3.02127132  9.12821696 -0.01072055] loss =  1.7076570565463223\n",
      "iteration =  2900 theta =  [ 3.07796811  9.28930806 -0.01072091] loss =  1.70909494198931\n",
      "iteration =  2950 theta =  [ 3.13466588  9.45042307 -0.01072123] loss =  1.7104689143582625\n",
      "iteration =  3000 theta =  [ 3.19136457  9.61156201 -0.01072153] loss =  1.7117829508173763\n",
      "iteration =  3050 theta =  [ 3.24806412  9.77272489 -0.01072179] loss =  1.7130408584421206\n",
      "iteration =  3100 theta =  [ 3.30476445  9.93391169 -0.01072203] loss =  1.7142462743460847\n",
      "iteration =  3150 theta =  [ 3.36146553 10.09512239 -0.01072225] loss =  1.7154026656747439\n",
      "iteration =  3200 theta =  [ 3.4181673  10.25635693 -0.01072245] loss =  1.716513329333874\n",
      "iteration =  3250 theta =  [ 3.47486971 10.41761526 -0.01072263] loss =  1.717581391422687\n",
      "iteration =  3300 theta =  [ 3.53157271 10.57889731 -0.01072279] loss =  1.7186098064552149\n",
      "iteration =  3350 theta =  [ 3.58827627e+00  1.07402030e+01 -1.07229388e-02] loss =  1.7196013565500747\n",
      "iteration =  3400 theta =  [ 3.64498035e+00  1.09015322e+01 -1.07230718e-02] loss =  1.7205586508320607\n",
      "iteration =  3450 theta =  [ 3.70168490e+00  1.10628849e+01 -1.07231923e-02] loss =  1.7214841253136184\n",
      "iteration =  3500 theta =  [ 3.75838990e+00  1.12242608e+01 -1.07233015e-02] loss =  1.722380043511876\n",
      "iteration =  3550 theta =  [ 3.81509531e+00  1.13856600e+01 -1.07234003e-02] loss =  1.7232484980150822\n",
      "iteration =  3600 theta =  [ 3.87180110e+00  1.15470822e+01 -1.07234898e-02] loss =  1.7240914131506384\n",
      "iteration =  3650 theta =  [ 3.92850725e+00  1.17085273e+01 -1.07235708e-02] loss =  1.7249105488357797\n",
      "iteration =  3700 theta =  [ 3.98521372e+00  1.18699952e+01 -1.07236442e-02] loss =  1.7257075056204427\n",
      "iteration =  3750 theta =  [ 4.04192049e+00  1.20314856e+01 -1.07237106e-02] loss =  1.726483730867237\n",
      "iteration =  3800 theta =  [ 4.09862754e+00  1.21929986e+01 -1.07237708e-02] loss =  1.72724052596025\n",
      "iteration =  3850 theta =  [ 4.15533485e+00  1.23545338e+01 -1.07238253e-02] loss =  1.7279790543951712\n",
      "iteration =  3900 theta =  [ 4.21204239e+00  1.25160911e+01 -1.07238746e-02] loss =  1.7287003505781116\n",
      "iteration =  3950 theta =  [ 4.26875014e+00  1.26776704e+01 -1.07239193e-02] loss =  1.72940532914868\n",
      "iteration =  4000 theta =  [ 4.32545809e+00  1.28392714e+01 -1.07239597e-02] loss =  1.7300947946419956\n",
      "iteration =  4050 theta =  [ 4.38216622e+00  1.30008940e+01 -1.07239963e-02] loss =  1.7307694513122898\n",
      "iteration =  4100 theta =  [ 4.43887451e+00  1.31625379e+01 -1.07240295e-02] loss =  1.731429912954882\n",
      "iteration =  4150 theta =  [ 4.49558295e+00  1.33242031e+01 -1.07240595e-02] loss =  1.7320767125814578\n",
      "iteration =  4200 theta =  [ 4.55229152e+00  1.34858892e+01 -1.07240867e-02] loss =  1.7327103118237408\n",
      "iteration =  4250 theta =  [ 4.60900020e+00  1.36475961e+01 -1.07241113e-02] loss =  1.733331109961554\n",
      "iteration =  4300 theta =  [ 4.66570900e+00  1.38093237e+01 -1.07241336e-02] loss =  1.7339394524916403\n",
      "iteration =  4350 theta =  [ 4.72241788e+00  1.39710716e+01 -1.07241537e-02] loss =  1.734535639172753\n"
     ]
    },
    {
     "name": "stdout",
     "output_type": "stream",
     "text": [
      "iteration =  4400 theta =  [ 4.77912685e+00  1.41328398e+01 -1.07241720e-02] loss =  1.7351199315002896\n",
      "iteration =  4450 theta =  [ 4.83583589e+00  1.42946280e+01 -1.07241885e-02] loss =  1.7356925595793724\n",
      "iteration =  4500 theta =  [ 4.89254500e+00  1.44564359e+01 -1.07242035e-02] loss =  1.7362537283792532\n",
      "iteration =  4550 theta =  [ 4.94925415e+00  1.46182635e+01 -1.07242171e-02] loss =  1.7368036233639126\n",
      "iteration =  4600 theta =  [ 5.00596334e+00  1.47801104e+01 -1.07242293e-02] loss =  1.7373424155038981\n",
      "iteration =  4650 theta =  [ 5.06267257e+00  1.49419765e+01 -1.07242404e-02] loss =  1.7378702656830494\n",
      "iteration =  4700 theta =  [ 5.11938183e+00  1.51038616e+01 -1.07242505e-02] loss =  1.7383873285206957\n",
      "iteration =  4750 theta =  [ 5.17609110e+00  1.52657655e+01 -1.07242596e-02] loss =  1.7388937556355784\n",
      "iteration =  4800 theta =  [ 5.23280039e+00  1.54276880e+01 -1.07242679e-02] loss =  1.739389698382091\n",
      "iteration =  4850 theta =  [ 5.28950968e+00  1.55896288e+01 -1.07242753e-02] loss =  1.7398753100927244\n",
      "iteration =  4900 theta =  [ 5.34621897e+00  1.57515878e+01 -1.07242821e-02] loss =  1.7403507478628761\n",
      "iteration =  4950 theta =  [ 5.40292825e+00  1.59135648e+01 -1.07242882e-02] loss =  1.7408161739157129\n"
     ]
    }
   ],
   "source": [
    "for i in range(num_iteration):\n",
    "    \n",
    "    \n",
    "    theta = theta + compute_gradient(point_x,point_y,theta,label,data,learning_rate) \n",
    "    loss = compute_loss(point_x,point_y,theta,label)\n",
    "    \n",
    "    theta_iteration[i] = theta\n",
    "    loss_iteration[i] = loss\n",
    "    \n",
    "    if i %50 == 0:\n",
    "        print(\"iteration = \",i,\"theta = \",theta, \"loss = \",loss)\n",
    "        #print(compute_gradient(theta,data,label, learning_rate))\n",
    "\n"
   ]
  },
  {
   "cell_type": "markdown",
   "metadata": {},
   "source": [
    "## plot the results"
   ]
  },
  {
   "cell_type": "code",
   "execution_count": 241,
   "metadata": {},
   "outputs": [],
   "source": [
    "def plot_loss_curve(loss_iteration):\n",
    "\n",
    "    plt.figure(figsize=(8,6))   \n",
    "    plt.title('loss')\n",
    "\n",
    "\n",
    "    plt.plot(np.arange(1,5001), loss_iteration, '-', color = 'red')\n",
    "\n",
    "    plt.xlabel('iteration')\n",
    "    plt.ylabel('loss')\n",
    "    \n",
    "    plt.tight_layout()\n",
    "    plt.show()"
   ]
  },
  {
   "cell_type": "code",
   "execution_count": 242,
   "metadata": {},
   "outputs": [],
   "source": [
    "def plot_data(point_x, point_y,label):\n",
    "    \n",
    "    plt.figure(figsize=(8,8))\n",
    "\n",
    "    plt.title('training data')\n",
    "    \n",
    "    color_arr = ['blue','red']\n",
    "    \n",
    "    c0x = np.array([])\n",
    "    c0y = np.array([])\n",
    "    c1x = np.array([])\n",
    "    c1y = np.array([])\n",
    "    \n",
    "    for i in range(label.shape[0]):\n",
    "        if label[i] == 0:\n",
    "            c0x = np.append(c0x, np.array([point_x[i]]))\n",
    "            c0y = np.append(c0y, np.array([point_y[i]]))\n",
    "            \n",
    "        else:\n",
    "            c1x = np.append(c1x, np.array([point_x[i]]))\n",
    "            c1y = np.append(c1y, np.array([point_y[i]]))\n",
    "            \n",
    "    plt.plot(c0x,c0y, '.', color = 'blue')\n",
    "    plt.plot(c1x,c1y, '.', color = 'red')\n",
    "\n",
    "    plt.axis('equal')\n",
    "    plt.legend([ 'class=0','class = 1'])\n",
    "    plt.tight_layout()\n",
    "    plt.show()"
   ]
  },
  {
   "cell_type": "code",
   "execution_count": 243,
   "metadata": {},
   "outputs": [],
   "source": [
    "\n",
    "def plot_model_parameter(theta):\n",
    "\n",
    "    plt.figure(figsize=(8,6))\n",
    "    plt.title('model parameter')\n",
    "    plt.plot(np.arange(1,5001),theta_iteration[:,0], '-', color = 'red')\n",
    "    plt.plot(np.arange(1,5001),theta_iteration[:,1], '-', color = 'green')\n",
    "    plt.plot(np.arange(1,5001),theta_iteration[:,2], '-', color = 'blue')\n",
    "\n",
    "    plt.xlabel('iteration')\n",
    "    plt.legend(['theta0', 'theta1', 'theta2'])\n",
    "\n",
    "    plt.tight_layout()\n",
    "    plt.show()"
   ]
  },
  {
   "cell_type": "code",
   "execution_count": 250,
   "metadata": {},
   "outputs": [],
   "source": [
    "def plot_classifier(theta,point_x, point_y, label):\n",
    "    \n",
    "    xx = np.linspace(min(point_x), max(point_x),200)\n",
    "    yy = np.linspace(min(point_y), max(point_y),200)\n",
    "    mx, my = np.meshgrid(xx,yy)\n",
    "    xxx = -(theta[0] + theta[1] * xx) / theta[2]\n",
    "    \n",
    "    plt.figure(figsize=(10,10))\n",
    "    mz = sigmoid(-(theta[0] + theta[1] * mx + theta[2] * my))\n",
    "    plt.contourf(mx,my,mz, 60, cmap=\"RdBu_r\",vmin=0,vmax=1)\n",
    "    \n",
    "    c0x = np.array([])\n",
    "    \n",
    "    c0y = np.array([])\n",
    "    c1x = np.array([])\n",
    "    c1y = np.array([])\n",
    "    \n",
    "    for i in range(label.shape[0]):\n",
    "        if label[i] == 0:\n",
    "            c0x = np.append(c0x, np.array([point_x[i]]))\n",
    "            c0y = np.append(c0y, np.array([point_y[i]]))\n",
    "        else:\n",
    "            c1x = np.append(c1x, np.array([point_x[i]]))\n",
    "            c1y = np.append(c1y, np.array([point_y[i]]))\n",
    "            \n",
    "    plt.plot(xx, xxx, '-', color='black')\n",
    "    plt.plot(c0x, c0y, 'o', color='blue')\n",
    "    plt.plot(c1x, c1y, 'o', color='red')\n",
    "   \n",
    "    plt.axis('equal')\n",
    "    plt.legend(['boundary', 'class = 0','class = 1'])\n",
    "    plt.tight_layout()\n",
    "    plt.colorbar()\n",
    "    plt.show()"
   ]
  },
  {
   "cell_type": "markdown",
   "metadata": {},
   "source": [
    "# * * * * * * * * * * * * * * * * * * * * * * * * * * * * * * * * *"
   ]
  },
  {
   "cell_type": "markdown",
   "metadata": {},
   "source": [
    "# * results"
   ]
  },
  {
   "cell_type": "markdown",
   "metadata": {},
   "source": [
    "# * * * * * * * * * * * * * * * * * * * * * * * * * * * * * * * * *"
   ]
  },
  {
   "cell_type": "markdown",
   "metadata": {},
   "source": [
    "### # 01. plot the input data point in blue for class 0 and in red for class 1"
   ]
  },
  {
   "cell_type": "code",
   "execution_count": 251,
   "metadata": {},
   "outputs": [
    {
     "data": {
      "image/png": "[encoded data removed]",
      "text/plain": [
       "<Figure size 576x576 with 1 Axes>"
      ]
     },
     "metadata": {
      "needs_background": "light"
     },
     "output_type": "display_data"
    }
   ],
   "source": [
    "plot_data(point_x,point_y,label)"
   ]
  },
  {
   "cell_type": "markdown",
   "metadata": {},
   "source": [
    "### # 02. plot the values of the model parameters $\\theta_0$ in red curve, $\\theta_1$ in green curve, and $\\theta_2$ in blue curve over the gradient descent iterations"
   ]
  },
  {
   "cell_type": "code",
   "execution_count": 252,
   "metadata": {},
   "outputs": [
    {
     "data": {
      "image/png": "[encoded data removed]",
      "text/plain": [
       "<Figure size 576x432 with 1 Axes>"
      ]
     },
     "metadata": {
      "needs_background": "light"
     },
     "output_type": "display_data"
    }
   ],
   "source": [
    "plot_model_parameter(theta)"
   ]
  },
  {
   "cell_type": "markdown",
   "metadata": {},
   "source": [
    "### # 03. plot the loss values $\\mathcal{L}(\\theta)$ in red curve over the gradient descent iterations"
   ]
  },
  {
   "cell_type": "code",
   "execution_count": 253,
   "metadata": {
    "scrolled": true
   },
   "outputs": [
    {
     "data": {
      "image/png": "[encoded data removed]",
      "text/plain": [
       "<Figure size 576x432 with 1 Axes>"
      ]
     },
     "metadata": {
      "needs_background": "light"
     },
     "output_type": "display_data"
    }
   ],
   "source": [
    "plot_loss_curve(loss_iteration)"
   ]
  },
  {
   "cell_type": "markdown",
   "metadata": {},
   "source": [
    "### # 04. plot the classifier with the given data points superimposed"
   ]
  },
  {
   "cell_type": "code",
   "execution_count": 254,
   "metadata": {},
   "outputs": [
    {
     "data": {
      "image/png": "[encoded data removed]",
      "text/plain": [
       "<Figure size 720x720 with 2 Axes>"
      ]
     },
     "metadata": {
      "needs_background": "light"
     },
     "output_type": "display_data"
    }
   ],
   "source": [
    "plot_classifier(theta,point_x, point_y, label)"
   ]
  },
  {
   "cell_type": "code",
   "execution_count": null,
   "metadata": {},
   "outputs": [],
   "source": []
  }
 ],
 "metadata": {
  "kernelspec": {
   "display_name": "Python 3",
   "language": "python",
   "name": "python3"
  },
  "language_info": {
   "codemirror_mode": {
    "name": "ipython",
    "version": 3
   },
   "file_extension": ".py",
   "mimetype": "text/x-python",
   "name": "python",
   "nbconvert_exporter": "python",
   "pygments_lexer": "ipython3",
   "version": "3.7.6"
  },
  "metadata": {
   "interpreter": {
    "hash": "31f2aee4e71d21fbe5cf8b01ff0e069b9275f58929596ceb00d14d90e3e16cd6"
   }
  }
 },
 "nbformat": 4,
 "nbformat_minor": 2
}
