{
 "cells": [
  {
   "cell_type": "markdown",
   "metadata": {},
   "source": [
    "# Logistic Regression "
   ]
  },
  {
   "cell_type": "markdown",
   "metadata": {},
   "source": [
    "## import library"
   ]
  },
  {
   "cell_type": "code",
   "execution_count": 98,
   "metadata": {},
   "outputs": [],
   "source": [
    "import numpy as np\n",
    "import matplotlib.pyplot as plt\n",
    "import matplotlib.colors as colors"
   ]
  },
  {
   "cell_type": "markdown",
   "metadata": {},
   "source": [
    "## load training data"
   ]
  },
  {
   "cell_type": "code",
   "execution_count": 99,
   "metadata": {},
   "outputs": [
    {
     "name": "stdout",
     "output_type": "stream",
     "text": [
      "(600, 3) (600,) (600,) (600,)\n"
     ]
    }
   ],
   "source": [
    "fname_data = 'assignment_08_data.csv'\n",
    "\n",
    "data = np.genfromtxt(fname_data, delimiter=',')\n",
    "num_data = data.shape[0]\n",
    "\n",
    "point_x = np.zeros(num_data)\n",
    "point_y = np.zeros(num_data)\n",
    "label   = np.zeros(num_data)\n",
    "\n",
    "for i in range(num_data):\n",
    "\n",
    "    point_x[i]  = data[i,0]\n",
    "    point_y[i]  = data[i,1]\n",
    "    label[i]    = data[i,2]\n",
    "\n",
    "print(data.shape ,point_x.shape, point_y.shape,label.shape)\n"
   ]
  },
  {
   "cell_type": "markdown",
   "metadata": {},
   "source": [
    "## define linear regression function with inputs $\\theta = (\\theta_0, \\theta_1, \\theta_2)$ and ${\\rm point} = (1, x, y)$"
   ]
  },
  {
   "cell_type": "code",
   "execution_count": 100,
   "metadata": {},
   "outputs": [],
   "source": [
    "# (600,0)벡터를 return\n",
    "def linear_regression(point_x,point_y,theta):\n",
    "    temp = np.ones((3,point_x.shape[0]))\n",
    "    temp[1] = point_x\n",
    "    temp[2] = point_y\n",
    "\n",
    "    value = (theta.reshape(1,3)@ temp ).reshape(point_x.shape[0],)\n",
    "    \n",
    "    return value\n"
   ]
  },
  {
   "cell_type": "markdown",
   "metadata": {},
   "source": [
    "## define sigmoid function with input $x$"
   ]
  },
  {
   "cell_type": "code",
   "execution_count": 101,
   "metadata": {},
   "outputs": [
    {
     "name": "stdout",
     "output_type": "stream",
     "text": [
      "[0.5 0.5 0.5 0.5 0.5 0.5 0.5 0.5 0.5 0.5 0.5 0.5 0.5 0.5 0.5 0.5 0.5 0.5\n",
      " 0.5 0.5 0.5 0.5 0.5 0.5 0.5 0.5 0.5 0.5 0.5 0.5 0.5 0.5 0.5 0.5 0.5 0.5\n",
      " 0.5 0.5 0.5 0.5 0.5 0.5 0.5 0.5 0.5 0.5 0.5 0.5 0.5 0.5 0.5 0.5 0.5 0.5\n",
      " 0.5 0.5 0.5 0.5 0.5 0.5 0.5 0.5 0.5 0.5 0.5 0.5 0.5 0.5 0.5 0.5 0.5 0.5\n",
      " 0.5 0.5 0.5 0.5 0.5 0.5 0.5 0.5 0.5 0.5 0.5 0.5 0.5 0.5 0.5 0.5 0.5 0.5\n",
      " 0.5 0.5 0.5 0.5 0.5 0.5 0.5 0.5 0.5 0.5 0.5 0.5 0.5 0.5 0.5 0.5 0.5 0.5\n",
      " 0.5 0.5 0.5 0.5 0.5 0.5 0.5 0.5 0.5 0.5 0.5 0.5 0.5 0.5 0.5 0.5 0.5 0.5\n",
      " 0.5 0.5 0.5 0.5 0.5 0.5 0.5 0.5 0.5 0.5 0.5 0.5 0.5 0.5 0.5 0.5 0.5 0.5\n",
      " 0.5 0.5 0.5 0.5 0.5 0.5 0.5 0.5 0.5 0.5 0.5 0.5 0.5 0.5 0.5 0.5 0.5 0.5\n",
      " 0.5 0.5 0.5 0.5 0.5 0.5 0.5 0.5 0.5 0.5 0.5 0.5 0.5 0.5 0.5 0.5 0.5 0.5\n",
      " 0.5 0.5 0.5 0.5 0.5 0.5 0.5 0.5 0.5 0.5 0.5 0.5 0.5 0.5 0.5 0.5 0.5 0.5\n",
      " 0.5 0.5 0.5 0.5 0.5 0.5 0.5 0.5 0.5 0.5 0.5 0.5 0.5 0.5 0.5 0.5 0.5 0.5\n",
      " 0.5 0.5 0.5 0.5 0.5 0.5 0.5 0.5 0.5 0.5 0.5 0.5 0.5 0.5 0.5 0.5 0.5 0.5\n",
      " 0.5 0.5 0.5 0.5 0.5 0.5 0.5 0.5 0.5 0.5 0.5 0.5 0.5 0.5 0.5 0.5 0.5 0.5\n",
      " 0.5 0.5 0.5 0.5 0.5 0.5 0.5 0.5 0.5 0.5 0.5 0.5 0.5 0.5 0.5 0.5 0.5 0.5\n",
      " 0.5 0.5 0.5 0.5 0.5 0.5 0.5 0.5 0.5 0.5 0.5 0.5 0.5 0.5 0.5 0.5 0.5 0.5\n",
      " 0.5 0.5 0.5 0.5 0.5 0.5 0.5 0.5 0.5 0.5 0.5 0.5 0.5 0.5 0.5 0.5 0.5 0.5\n",
      " 0.5 0.5 0.5 0.5 0.5 0.5 0.5 0.5 0.5 0.5 0.5 0.5 0.5 0.5 0.5 0.5 0.5 0.5\n",
      " 0.5 0.5 0.5 0.5 0.5 0.5 0.5 0.5 0.5 0.5 0.5 0.5 0.5 0.5 0.5 0.5 0.5 0.5\n",
      " 0.5 0.5 0.5 0.5 0.5 0.5 0.5 0.5 0.5 0.5 0.5 0.5 0.5 0.5 0.5 0.5 0.5 0.5\n",
      " 0.5 0.5 0.5 0.5 0.5 0.5 0.5 0.5 0.5 0.5 0.5 0.5 0.5 0.5 0.5 0.5 0.5 0.5\n",
      " 0.5 0.5 0.5 0.5 0.5 0.5 0.5 0.5 0.5 0.5 0.5 0.5 0.5 0.5 0.5 0.5 0.5 0.5\n",
      " 0.5 0.5 0.5 0.5 0.5 0.5 0.5 0.5 0.5 0.5 0.5 0.5 0.5 0.5 0.5 0.5 0.5 0.5\n",
      " 0.5 0.5 0.5 0.5 0.5 0.5 0.5 0.5 0.5 0.5 0.5 0.5 0.5 0.5 0.5 0.5 0.5 0.5\n",
      " 0.5 0.5 0.5 0.5 0.5 0.5 0.5 0.5 0.5 0.5 0.5 0.5 0.5 0.5 0.5 0.5 0.5 0.5\n",
      " 0.5 0.5 0.5 0.5 0.5 0.5 0.5 0.5 0.5 0.5 0.5 0.5 0.5 0.5 0.5 0.5 0.5 0.5\n",
      " 0.5 0.5 0.5 0.5 0.5 0.5 0.5 0.5 0.5 0.5 0.5 0.5 0.5 0.5 0.5 0.5 0.5 0.5\n",
      " 0.5 0.5 0.5 0.5 0.5 0.5 0.5 0.5 0.5 0.5 0.5 0.5 0.5 0.5 0.5 0.5 0.5 0.5\n",
      " 0.5 0.5 0.5 0.5 0.5 0.5 0.5 0.5 0.5 0.5 0.5 0.5 0.5 0.5 0.5 0.5 0.5 0.5\n",
      " 0.5 0.5 0.5 0.5 0.5 0.5 0.5 0.5 0.5 0.5 0.5 0.5 0.5 0.5 0.5 0.5 0.5 0.5\n",
      " 0.5 0.5 0.5 0.5 0.5 0.5 0.5 0.5 0.5 0.5 0.5 0.5 0.5 0.5 0.5 0.5 0.5 0.5\n",
      " 0.5 0.5 0.5 0.5 0.5 0.5 0.5 0.5 0.5 0.5 0.5 0.5 0.5 0.5 0.5 0.5 0.5 0.5\n",
      " 0.5 0.5 0.5 0.5 0.5 0.5 0.5 0.5 0.5 0.5 0.5 0.5 0.5 0.5 0.5 0.5 0.5 0.5\n",
      " 0.5 0.5 0.5 0.5 0.5 0.5]\n"
     ]
    }
   ],
   "source": [
    "def sigmoid(value):\n",
    "    z = 1 + np.exp(-value) \n",
    "    z = 1 / z\n",
    "    \n",
    "    return z\n",
    "print(sigmoid(linear_regression(point_x, point_y, np.array([0,0,0]))))"
   ]
  },
  {
   "cell_type": "markdown",
   "metadata": {},
   "source": [
    "## define loss function for the logistic regression"
   ]
  },
  {
   "cell_type": "code",
   "execution_count": 102,
   "metadata": {},
   "outputs": [],
   "source": [
    "def compute_loss(theta,point_x,point_y,label,z):\n",
    "     \n",
    "    \n",
    "    \n",
    "    loss = np.sum( -label*np.log10(0.001+z) + ( label-1)*np.log10((1-z))) \n",
    "    return loss\n",
    "                    "
   ]
  },
  {
   "cell_type": "markdown",
   "metadata": {},
   "source": [
    "## define gradient vector for the model parameters $\\theta = (\\theta_0, \\theta_1, \\theta_2)$"
   ]
  },
  {
   "cell_type": "code",
   "execution_count": 103,
   "metadata": {},
   "outputs": [],
   "source": [
    "def compute_gradient(point_x,point_y,theta,label,data,learning_rate,z):\n",
    "    \n",
    "    gradient = learning_rate * np.sum(data.T * (z-label), axis = 1)/data.shape[0]\n",
    "    \n",
    "    return gradient\n"
   ]
  },
  {
   "cell_type": "markdown",
   "metadata": {},
   "source": [
    "## gradient descent for the model parameters $\\theta = (\\theta_0, \\theta_1, \\theta_2)$"
   ]
  },
  {
   "cell_type": "code",
   "execution_count": 104,
   "metadata": {
    "tags": []
   },
   "outputs": [],
   "source": [
    "num_iteration   = 5000  # USE THIS VALUE for the number of gradient descent iterations \n",
    "learning_rate   = 0.001 # USE THIS VALUE for the learning rate\n",
    "theta           = np.array((0., 0., 0.))   # USE THIS VALUE for the initial condition of the model parameters\n",
    "\n",
    "theta_iteration = np.zeros((num_iteration, theta.size))\n",
    "loss_iteration = np.zeros(num_iteration)"
   ]
  },
  {
   "cell_type": "markdown",
   "metadata": {},
   "source": [
    "## iterations for the gradient descent"
   ]
  },
  {
   "cell_type": "code",
   "execution_count": 105,
   "metadata": {
    "tags": []
   },
   "outputs": [
    {
     "name": "stdout",
     "output_type": "stream",
     "text": [
      "iteration =  0 theta =  [ 0.00353072 -0.00360356  0.00025   ] loss =  180.3576809390206\n",
      "iteration =  50 theta =  [ 0.2945259  -0.2100719   0.01883774] loss =  503.67337340620327\n",
      "iteration =  100 theta =  [ 0.67664694 -0.45628845  0.04241947] loss =  918.8973747433924\n",
      "iteration =  150 theta =  [ 1.07329888 -0.71580109  0.06682275] loss =  1178.7828536899442\n",
      "iteration =  200 theta =  [ 1.47358094 -0.97933226  0.09142708] loss =  1359.457201201066\n",
      "iteration =  250 theta =  [ 1.87527801 -1.24434399  0.11611055] loss =  1516.0408925949305\n",
      "iteration =  300 theta =  [ 2.27766252 -1.51000106  0.14083317] loss =  1664.1456247597118\n",
      "iteration =  350 theta =  [ 2.68042368 -1.77597805  0.1655773 ] loss =  1809.1241600532203\n",
      "iteration =  400 theta =  [ 3.08340872 -2.0421294   0.19033407] loss =  1952.7125355864746\n",
      "iteration =  450 theta =  [ 3.48653572 -2.30838275  0.21509875] loss =  inf\n",
      "iteration =  500 theta =  [ 3.88975782 -2.57469958  0.23986878] loss =  inf\n",
      "iteration =  550 theta =  [ 4.29304665 -2.84105854  0.26464268] loss =  inf\n",
      "iteration =  600 theta =  [ 4.69638412 -3.10744763  0.28941963] loss =  inf\n",
      "iteration =  650 theta =  [ 5.09975815 -3.37386012  0.31419911] loss =  inf\n",
      "iteration =  700 theta =  [ 5.50316032 -3.64029224  0.3389808 ] loss =  inf\n",
      "iteration =  750 theta =  [ 5.90658453 -3.90674191  0.36376447] loss =  inf\n",
      "iteration =  800 theta =  [ 6.31002624 -4.17320803  0.38854996] loss =  inf\n",
      "iteration =  850 theta =  [ 6.71348198 -4.43968998  0.41333714] loss =  inf\n",
      "iteration =  900 theta =  [ 7.11694904 -4.70618744  0.43812588] loss =  inf\n",
      "iteration =  950 theta =  [ 7.52042526 -4.9727002   0.46291609] loss =  inf\n",
      "iteration =  1000 theta =  [ 7.92390891 -5.23922817  0.48770765] loss =  inf\n",
      "iteration =  1050 theta =  [ 8.32739855 -5.50577124  0.51250048] loss =  inf\n",
      "iteration =  1100 theta =  [ 8.73089302 -5.77232936  0.5372945 ] loss =  inf\n",
      "iteration =  1150 theta =  [ 9.13439132 -6.03890247  0.5620896 ] loss =  inf\n",
      "iteration =  1200 theta =  [ 9.53789264 -6.30549052  0.58688572] loss =  inf\n",
      "iteration =  1250 theta =  [ 9.94139625 -6.5720935   0.61168277] loss =  inf\n",
      "iteration =  1300 theta =  [10.34490156 -6.83871139  0.63648068] loss =  inf\n",
      "iteration =  1350 theta =  [10.74840804 -7.10534417  0.66127938] loss =  inf\n",
      "iteration =  1400 theta =  [11.15191523 -7.37199186  0.6860788 ] loss =  inf\n",
      "iteration =  1450 theta =  [11.55542274 -7.63865447  0.71087887] loss =  inf\n",
      "iteration =  1500 theta =  [11.95893021 -7.905332    0.73567954] loss =  inf\n",
      "iteration =  1550 theta =  [12.36243734 -8.1720245   0.76048075] loss =  inf\n",
      "iteration =  1600 theta =  [12.76594386 -8.43873197  0.78528245] loss =  inf\n",
      "iteration =  1650 theta =  [13.16944953 -8.70545443  0.81008458] loss =  inf\n",
      "iteration =  1700 theta =  [13.57295413 -8.97219191  0.8348871 ] loss =  inf\n",
      "iteration =  1750 theta =  [13.97645748 -9.23894441  0.85968996] loss =  inf\n",
      "iteration =  1800 theta =  [14.37995941 -9.50571193  0.88449313] loss =  inf\n",
      "iteration =  1850 theta =  [14.78345979 -9.77249446  0.90929656] loss =  inf\n",
      "iteration =  1900 theta =  [ 15.18695848 -10.039292     0.93410022] loss =  inf\n",
      "iteration =  1950 theta =  [ 15.59045538 -10.3061045    0.95890408] loss =  inf\n",
      "iteration =  2000 theta =  [ 15.99395038 -10.57293192   0.9837081 ] loss =  inf\n",
      "iteration =  2050 theta =  [ 16.39744341 -10.83977422   1.00851226] loss =  inf\n"
     ]
    },
    {
     "name": "stderr",
     "output_type": "stream",
     "text": [
      "/opt/anaconda3/lib/python3.7/site-packages/ipykernel_launcher.py:5: RuntimeWarning: divide by zero encountered in log10\n",
      "  \"\"\"\n"
     ]
    },
    {
     "name": "stdout",
     "output_type": "stream",
     "text": [
      "iteration =  2100 theta =  [ 16.80093439 -11.10663132   1.03331654] loss =  inf\n",
      "iteration =  2150 theta =  [ 17.20442327 -11.37350315   1.0581209 ] loss =  inf\n",
      "iteration =  2200 theta =  [ 17.60790999 -11.64038962   1.08292533] loss =  inf\n",
      "iteration =  2250 theta =  [ 18.01139452 -11.90729062   1.1077298 ] loss =  inf\n",
      "iteration =  2300 theta =  [ 18.41487683 -12.17420604   1.1325343 ] loss =  inf\n",
      "iteration =  2350 theta =  [ 18.81835688 -12.44113576   1.15733882] loss =  inf\n",
      "iteration =  2400 theta =  [ 19.22183467 -12.70807965   1.18214333] loss =  inf\n",
      "iteration =  2450 theta =  [ 19.62531018 -12.97503755   1.20694782] loss =  inf\n",
      "iteration =  2500 theta =  [ 20.02878341 -13.24200932   1.23175229] loss =  inf\n",
      "iteration =  2550 theta =  [ 20.43225436 -13.50899479   1.25655671] loss =  inf\n",
      "iteration =  2600 theta =  [ 20.83572302 -13.77599381   1.28136108] loss =  inf\n",
      "iteration =  2650 theta =  [ 21.23918942 -14.04300619   1.30616539] loss =  inf\n",
      "iteration =  2700 theta =  [ 21.64265356 -14.31003176   1.33096964] loss =  inf\n",
      "iteration =  2750 theta =  [ 22.04611546 -14.57707033   1.35577381] loss =  inf\n",
      "iteration =  2800 theta =  [ 22.44957513 -14.84412171   1.38057789] loss =  inf\n",
      "iteration =  2850 theta =  [ 22.85303261 -15.1111857    1.4053819 ] loss =  inf\n",
      "iteration =  2900 theta =  [ 23.2564879  -15.37826212   1.43018581] loss =  inf\n",
      "iteration =  2950 theta =  [ 23.65994105 -15.64535075   1.45498962] loss =  inf\n",
      "iteration =  3000 theta =  [ 24.06339207 -15.9124514    1.47979334] loss =  inf\n",
      "iteration =  3050 theta =  [ 24.46684101 -16.17956386   1.50459696] loss =  inf\n",
      "iteration =  3100 theta =  [ 24.87028787 -16.44668793   1.52940048] loss =  inf\n",
      "iteration =  3150 theta =  [ 25.27373271 -16.7138234    1.55420389] loss =  inf\n",
      "iteration =  3200 theta =  [ 25.67717556 -16.98097006   1.5790072 ] loss =  inf\n",
      "iteration =  3250 theta =  [ 26.08061644 -17.2481277    1.6038104 ] loss =  inf\n",
      "iteration =  3300 theta =  [ 26.48405539 -17.51529613   1.6286135 ] loss =  inf\n",
      "iteration =  3350 theta =  [ 26.88749246 -17.78247512   1.65341648] loss =  inf\n",
      "iteration =  3400 theta =  [ 27.29092767 -18.04966447   1.67821937] loss =  inf\n",
      "iteration =  3450 theta =  [ 27.69436105 -18.31686399   1.70302215] loss =  inf\n",
      "iteration =  3500 theta =  [ 28.09779266 -18.58407346   1.72782482] loss =  inf\n",
      "iteration =  3550 theta =  [ 28.50122252 -18.85129268   1.75262739] loss =  inf\n",
      "iteration =  3600 theta =  [ 28.90465068 -19.11852145   1.77742986] loss =  inf\n",
      "iteration =  3650 theta =  [ 29.30807716 -19.38575957   1.80223223] loss =  inf\n",
      "iteration =  3700 theta =  [ 29.711502   -19.65300684   1.8270345 ] loss =  inf\n",
      "iteration =  3750 theta =  [ 30.11492525 -19.92026307   1.85183668] loss =  inf\n",
      "iteration =  3800 theta =  [ 30.51834694 -20.18752806   1.87663876] loss =  inf\n",
      "iteration =  3850 theta =  [ 30.92176711 -20.45480163   1.90144075] loss =  inf\n",
      "iteration =  3900 theta =  [ 31.32518578 -20.72208358   1.92624264] loss =  inf\n",
      "iteration =  3950 theta =  [ 31.72860301 -20.98937372   1.95104446] loss =  inf\n",
      "iteration =  4000 theta =  [ 32.13201881 -21.25667189   1.97584618] loss =  inf\n",
      "iteration =  4050 theta =  [ 32.53543324 -21.52397788   2.00064783] loss =  inf\n",
      "iteration =  4100 theta =  [ 32.93884631 -21.79129152   2.02544939] loss =  inf\n",
      "iteration =  4150 theta =  [ 33.34225808 -22.05861264   2.05025088] loss =  inf\n",
      "iteration =  4200 theta =  [ 33.74566856 -22.32594107   2.07505229] loss =  inf\n",
      "iteration =  4250 theta =  [ 34.1490778  -22.59327663   2.09985363] loss =  inf\n",
      "iteration =  4300 theta =  [ 34.55248582 -22.86061915   2.1246549 ] loss =  inf\n",
      "iteration =  4350 theta =  [ 34.95589267 -23.12796847   2.14945611] loss =  inf\n",
      "iteration =  4400 theta =  [ 35.35929837 -23.39532442   2.17425725] loss =  inf\n",
      "iteration =  4450 theta =  [ 35.76270295 -23.66268686   2.19905834] loss =  inf\n",
      "iteration =  4500 theta =  [ 36.16610645 -23.93005561   2.22385936] loss =  inf\n",
      "iteration =  4550 theta =  [ 36.56950889 -24.19743053   2.24866033] loss =  nan\n",
      "iteration =  4600 theta =  [ 36.9729103  -24.46481146   2.27346125] loss =  nan\n",
      "iteration =  4650 theta =  [ 37.37631072 -24.73219825   2.29826212] loss =  nan\n",
      "iteration =  4700 theta =  [ 37.77971018 -24.99959076   2.32306294] loss =  nan\n",
      "iteration =  4750 theta =  [ 38.18310869 -25.26698885   2.34786372] loss =  nan\n",
      "iteration =  4800 theta =  [ 38.5865063  -25.53439236   2.37266445] loss =  nan\n",
      "iteration =  4850 theta =  [ 38.98990302 -25.80180118   2.39746515] loss =  nan\n",
      "iteration =  4900 theta =  [ 39.39329888 -26.06921515   2.42226581] loss =  nan\n",
      "iteration =  4950 theta =  [ 39.79669392 -26.33663414   2.44706644] loss =  nan\n"
     ]
    },
    {
     "name": "stderr",
     "output_type": "stream",
     "text": [
      "/opt/anaconda3/lib/python3.7/site-packages/ipykernel_launcher.py:5: RuntimeWarning: invalid value encountered in multiply\n",
      "  \"\"\"\n"
     ]
    }
   ],
   "source": [
    "for i in range(num_iteration):\n",
    "    z = sigmoid(linear_regression(point_x,point_y,theta))\n",
    "    \n",
    "    theta = theta - compute_gradient(point_x,point_y,theta,label,data,learning_rate,z)\n",
    "    loss = compute_loss(theta,point_x,point_y,label,z)\n",
    "    \n",
    "    theta_iteration[i] = theta\n",
    "    loss_iteration[i] = loss\n",
    "    \n",
    "    if i %50 == 0:\n",
    "        print(\"iteration = \",i,\"theta = \",theta, \"loss = \",loss)\n",
    "        #print(compute_gradient(theta,data,label, learning_rate))\n",
    "\n"
   ]
  },
  {
   "cell_type": "markdown",
   "metadata": {},
   "source": [
    "## plot the results"
   ]
  },
  {
   "cell_type": "code",
   "execution_count": 106,
   "metadata": {},
   "outputs": [],
   "source": [
    "def plot_loss_curve(loss_iteration):\n",
    "\n",
    "    plt.figure(figsize=(8,6))   \n",
    "    plt.title('loss')\n",
    "\n",
    "\n",
    "    plt.plot(np.arange(1,5001), loss_iteration, '-', color = 'red')\n",
    "\n",
    "    plt.xlabel('iteration')\n",
    "    plt.ylabel('loss')\n",
    "    \n",
    "    plt.tight_layout()\n",
    "    plt.show()"
   ]
  },
  {
   "cell_type": "code",
   "execution_count": 107,
   "metadata": {},
   "outputs": [],
   "source": [
    "def plot_data(point_x, point_y,label):\n",
    "    \n",
    "    plt.figure(figsize=(8,8))\n",
    "\n",
    "    plt.title('training data')\n",
    "    \n",
    "    color_arr = ['blue','red']\n",
    "    \n",
    "    c0x = np.array([])\n",
    "    c0y = np.array([])\n",
    "    c1x = np.array([])\n",
    "    c1y = np.array([])\n",
    "    \n",
    "    for i in range(label.shape[0]):\n",
    "        if label[i] == 0:\n",
    "            c0x = np.append(c0x, np.array([point_x[i]]))\n",
    "            c0y = np.append(c0y, np.array([point_y[i]]))\n",
    "            \n",
    "        else:\n",
    "            c1x = np.append(c1x, np.array([point_x[i]]))\n",
    "            c1y = np.append(c1y, np.array([point_y[i]]))\n",
    "            \n",
    "    plt.plot(c0x,c0y, '.', color = 'blue')\n",
    "    plt.plot(c1x,c1y, '.', color = 'red')\n",
    "\n",
    "    plt.axis('equal')\n",
    "    plt.legend([ 'class=0','class = 1'])\n",
    "    plt.tight_layout()\n",
    "    plt.show()"
   ]
  },
  {
   "cell_type": "code",
   "execution_count": 108,
   "metadata": {},
   "outputs": [],
   "source": [
    "\n",
    "def plot_model_parameter(theta):\n",
    "\n",
    "    plt.figure(figsize=(8,6))\n",
    "    plt.title('model parameter')\n",
    "    plt.plot(np.arange(1,5001),theta_iteration[:,0], '-', color = 'red')\n",
    "    plt.plot(np.arange(1,5001),theta_iteration[:,1], '-', color = 'green')\n",
    "    plt.plot(np.arange(1,5001),theta_iteration[:,2], '-', color = 'blue')\n",
    "\n",
    "    plt.xlabel('iteration')\n",
    "    plt.legend(['theta0', 'theta1', 'theta2'])\n",
    "\n",
    "    plt.tight_layout()\n",
    "    plt.show()"
   ]
  },
  {
   "cell_type": "code",
   "execution_count": 109,
   "metadata": {},
   "outputs": [],
   "source": [
    "def plot_classifier(theta,point_x, point_y, label):\n",
    "    \n",
    "    xx = np.linspace(min(point_x), max(point_x),200)\n",
    "    yy = np.linspace(min(point_y), max(point_y),200)\n",
    "    mx, my = np.meshgrid(xx,yy)\n",
    "    xxx = -(theta[0] + theta[1] * xx) / theta[2]\n",
    "    \n",
    "    plt.figure(figsize=(10,10))\n",
    "    mz = sigmoid(-(theta[0] + theta[1] * mx + theta[2] * my))\n",
    "    plt.contourf(mx,my,mz, 60, cmap=\"RdBu_r\",vmin=0,vmax=1)\n",
    "    \n",
    "    c0x = np.array([])\n",
    "    \n",
    "    c0y = np.array([])\n",
    "    c1x = np.array([])\n",
    "    c1y = np.array([])\n",
    "    \n",
    "    for i in range(label.shape[0]):\n",
    "        if label[i] == 0:\n",
    "            c0x = np.append(c0x, np.array([point_x[i]]))\n",
    "            c0y = np.append(c0y, np.array([point_y[i]]))\n",
    "        else:\n",
    "            c1x = np.append(c1x, np.array([point_x[i]]))\n",
    "            c1y = np.append(c1y, np.array([point_y[i]]))\n",
    "            \n",
    "    plt.plot(xx, xxx, '-', color='black')\n",
    "    plt.plot(c0x, c0y, 'o', color='blue')\n",
    "    plt.plot(c1x, c1y, 'o', color='red')\n",
    "   \n",
    "    plt.axis('equal')\n",
    "    plt.legend(['boundary', 'class = 0','class = 1'])\n",
    "    plt.tight_layout()\n",
    "    plt.colorbar()\n",
    "    plt.show()"
   ]
  },
  {
   "cell_type": "markdown",
   "metadata": {},
   "source": [
    "# * * * * * * * * * * * * * * * * * * * * * * * * * * * * * * * * *"
   ]
  },
  {
   "cell_type": "markdown",
   "metadata": {},
   "source": [
    "# * results"
   ]
  },
  {
   "cell_type": "markdown",
   "metadata": {},
   "source": [
    "# * * * * * * * * * * * * * * * * * * * * * * * * * * * * * * * * *"
   ]
  },
  {
   "cell_type": "markdown",
   "metadata": {},
   "source": [
    "### # 01. plot the input data point in blue for class 0 and in red for class 1"
   ]
  },
  {
   "cell_type": "code",
   "execution_count": 110,
   "metadata": {},
   "outputs": [
    {
     "data": {
      "image/png": "[encoded data removed]",
      "text/plain": [
       "<Figure size 576x576 with 1 Axes>"
      ]
     },
     "metadata": {
      "needs_background": "light"
     },
     "output_type": "display_data"
    }
   ],
   "source": [
    "plot_data(point_x,point_y,label)"
   ]
  },
  {
   "cell_type": "markdown",
   "metadata": {},
   "source": [
    "### # 02. plot the values of the model parameters $\\theta_0$ in red curve, $\\theta_1$ in green curve, and $\\theta_2$ in blue curve over the gradient descent iterations"
   ]
  },
  {
   "cell_type": "code",
   "execution_count": 111,
   "metadata": {},
   "outputs": [
    {
     "data": {
      "image/png": "[encoded data removed]",
      "text/plain": [
       "<Figure size 576x432 with 1 Axes>"
      ]
     },
     "metadata": {
      "needs_background": "light"
     },
     "output_type": "display_data"
    }
   ],
   "source": [
    "plot_model_parameter(theta)"
   ]
  },
  {
   "cell_type": "markdown",
   "metadata": {},
   "source": [
    "### # 03. plot the loss values $\\mathcal{L}(\\theta)$ in red curve over the gradient descent iterations"
   ]
  },
  {
   "cell_type": "code",
   "execution_count": 112,
   "metadata": {
    "scrolled": true
   },
   "outputs": [
    {
     "data": {
      "image/png": "[encoded data removed]",
      "text/plain": [
       "<Figure size 576x432 with 1 Axes>"
      ]
     },
     "metadata": {
      "needs_background": "light"
     },
     "output_type": "display_data"
    }
   ],
   "source": [
    "plot_loss_curve(loss_iteration)"
   ]
  },
  {
   "cell_type": "markdown",
   "metadata": {},
   "source": [
    "### # 04. plot the classifier with the given data points superimposed"
   ]
  },
  {
   "cell_type": "code",
   "execution_count": 113,
   "metadata": {},
   "outputs": [
    {
     "data": {
      "image/png": "[encoded data removed]",
      "text/plain": [
       "<Figure size 720x720 with 2 Axes>"
      ]
     },
     "metadata": {
      "needs_background": "light"
     },
     "output_type": "display_data"
    }
   ],
   "source": [
    "plot_classifier(theta,point_x, point_y, label)"
   ]
  },
  {
   "cell_type": "code",
   "execution_count": null,
   "metadata": {},
   "outputs": [],
   "source": []
  },
  {
   "cell_type": "code",
   "execution_count": null,
   "metadata": {},
   "outputs": [],
   "source": []
  }
 ],
 "metadata": {
  "kernelspec": {
   "display_name": "Python 3",
   "language": "python",
   "name": "python3"
  },
  "language_info": {
   "codemirror_mode": {
    "name": "ipython",
    "version": 3
   },
   "file_extension": ".py",
   "mimetype": "text/x-python",
   "name": "python",
   "nbconvert_exporter": "python",
   "pygments_lexer": "ipython3",
   "version": "3.7.6"
  },
  "metadata": {
   "interpreter": {
    "hash": "31f2aee4e71d21fbe5cf8b01ff0e069b9275f58929596ceb00d14d90e3e16cd6"
   }
  }
 },
 "nbformat": 4,
 "nbformat_minor": 2
}
